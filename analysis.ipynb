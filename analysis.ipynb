{
 "metadata": {
  "language_info": {
   "codemirror_mode": {
    "name": "ipython",
    "version": 3
   },
   "file_extension": ".py",
   "mimetype": "text/x-python",
   "name": "python",
   "nbconvert_exporter": "python",
   "pygments_lexer": "ipython3",
   "version": "3.7.4-final"
  },
  "orig_nbformat": 2,
  "kernelspec": {
   "name": "python3",
   "display_name": "Python 3"
  }
 },
 "nbformat": 4,
 "nbformat_minor": 2,
 "cells": [
  {
   "cell_type": "code",
   "execution_count": 23,
   "metadata": {},
   "outputs": [],
   "source": [
    "import pandas as pd\n",
    "import numpy as np \n",
    "import os\n",
    "import matplotlib"
   ]
  },
  {
   "cell_type": "code",
   "execution_count": 25,
   "metadata": {},
   "outputs": [
    {
     "output_type": "execute_result",
     "data": {
      "text/plain": "   School ID            school_name      type  size   budget\n0          0      Huang High School  District  2917  1910635\n1          1   Figueroa High School  District  2949  1884411\n2          2    Shelton High School   Charter  1761  1056600\n3          3  Hernandez High School  District  4635  3022020\n4          4    Griffin High School   Charter  1468   917500",
      "text/html": "<div>\n<style scoped>\n    .dataframe tbody tr th:only-of-type {\n        vertical-align: middle;\n    }\n\n    .dataframe tbody tr th {\n        vertical-align: top;\n    }\n\n    .dataframe thead th {\n        text-align: right;\n    }\n</style>\n<table border=\"1\" class=\"dataframe\">\n  <thead>\n    <tr style=\"text-align: right;\">\n      <th></th>\n      <th>School ID</th>\n      <th>school_name</th>\n      <th>type</th>\n      <th>size</th>\n      <th>budget</th>\n    </tr>\n  </thead>\n  <tbody>\n    <tr>\n      <th>0</th>\n      <td>0</td>\n      <td>Huang High School</td>\n      <td>District</td>\n      <td>2917</td>\n      <td>1910635</td>\n    </tr>\n    <tr>\n      <th>1</th>\n      <td>1</td>\n      <td>Figueroa High School</td>\n      <td>District</td>\n      <td>2949</td>\n      <td>1884411</td>\n    </tr>\n    <tr>\n      <th>2</th>\n      <td>2</td>\n      <td>Shelton High School</td>\n      <td>Charter</td>\n      <td>1761</td>\n      <td>1056600</td>\n    </tr>\n    <tr>\n      <th>3</th>\n      <td>3</td>\n      <td>Hernandez High School</td>\n      <td>District</td>\n      <td>4635</td>\n      <td>3022020</td>\n    </tr>\n    <tr>\n      <th>4</th>\n      <td>4</td>\n      <td>Griffin High School</td>\n      <td>Charter</td>\n      <td>1468</td>\n      <td>917500</td>\n    </tr>\n  </tbody>\n</table>\n</div>"
     },
     "metadata": {},
     "execution_count": 25
    }
   ],
   "source": [
    "sch=pd.read_csv('Resources/schools_complete.csv')\n",
    "sch.head()\n"
   ]
  },
  {
   "cell_type": "code",
   "execution_count": 27,
   "metadata": {},
   "outputs": [
    {
     "output_type": "execute_result",
     "data": {
      "text/plain": "   Student ID     student_name gender grade        school_name  reading_score  \\\n0           0     Paul Bradley      M   9th  Huang High School             66   \n1           1     Victor Smith      M  12th  Huang High School             94   \n2           2  Kevin Rodriguez      M  12th  Huang High School             90   \n3           3    Richard Scott      M  12th  Huang High School             67   \n4           4       Bonnie Ray      F   9th  Huang High School             97   \n\n   math_score  \n0          79  \n1          61  \n2          60  \n3          58  \n4          84  ",
      "text/html": "<div>\n<style scoped>\n    .dataframe tbody tr th:only-of-type {\n        vertical-align: middle;\n    }\n\n    .dataframe tbody tr th {\n        vertical-align: top;\n    }\n\n    .dataframe thead th {\n        text-align: right;\n    }\n</style>\n<table border=\"1\" class=\"dataframe\">\n  <thead>\n    <tr style=\"text-align: right;\">\n      <th></th>\n      <th>Student ID</th>\n      <th>student_name</th>\n      <th>gender</th>\n      <th>grade</th>\n      <th>school_name</th>\n      <th>reading_score</th>\n      <th>math_score</th>\n    </tr>\n  </thead>\n  <tbody>\n    <tr>\n      <th>0</th>\n      <td>0</td>\n      <td>Paul Bradley</td>\n      <td>M</td>\n      <td>9th</td>\n      <td>Huang High School</td>\n      <td>66</td>\n      <td>79</td>\n    </tr>\n    <tr>\n      <th>1</th>\n      <td>1</td>\n      <td>Victor Smith</td>\n      <td>M</td>\n      <td>12th</td>\n      <td>Huang High School</td>\n      <td>94</td>\n      <td>61</td>\n    </tr>\n    <tr>\n      <th>2</th>\n      <td>2</td>\n      <td>Kevin Rodriguez</td>\n      <td>M</td>\n      <td>12th</td>\n      <td>Huang High School</td>\n      <td>90</td>\n      <td>60</td>\n    </tr>\n    <tr>\n      <th>3</th>\n      <td>3</td>\n      <td>Richard Scott</td>\n      <td>M</td>\n      <td>12th</td>\n      <td>Huang High School</td>\n      <td>67</td>\n      <td>58</td>\n    </tr>\n    <tr>\n      <th>4</th>\n      <td>4</td>\n      <td>Bonnie Ray</td>\n      <td>F</td>\n      <td>9th</td>\n      <td>Huang High School</td>\n      <td>97</td>\n      <td>84</td>\n    </tr>\n  </tbody>\n</table>\n</div>"
     },
     "metadata": {},
     "execution_count": 27
    }
   ],
   "source": [
    "# use cleaned data from 'clean_up' notebook\n",
    "stu=pd.read_csv('Resources/cleaned_students_complete.csv')\n",
    "stu.head()"
   ]
  },
  {
   "cell_type": "code",
   "execution_count": 28,
   "metadata": {},
   "outputs": [],
   "source": [
    "school_data=os.path.join(\"Resources\", \"schools_complete.csv\")\n",
    "student_data=os.path.join(\"Resources\", \"Resources/cleaned_students_complete.csv\")\n"
   ]
  },
  {
   "cell_type": "code",
   "execution_count": 29,
   "metadata": {},
   "outputs": [
    {
     "output_type": "execute_result",
     "data": {
      "text/plain": "School ID      15\nschool_name    15\ntype           15\nsize           15\nbudget         15\ndtype: int64"
     },
     "metadata": {},
     "execution_count": 29
    }
   ],
   "source": [
    "sch.count()"
   ]
  },
  {
   "cell_type": "code",
   "execution_count": 22,
   "metadata": {},
   "outputs": [],
   "source": [
    "#check for null values in both dataframes using notnull (boolean) along with sum all zeros means no missing values"
   ]
  },
  {
   "cell_type": "code",
   "execution_count": 21,
   "metadata": {},
   "outputs": [
    {
     "output_type": "execute_result",
     "data": {
      "text/plain": "School ID      15\nschool_name    15\ntype           15\nsize           15\nbudget         15\ndtype: int64"
     },
     "metadata": {},
     "execution_count": 21
    }
   ],
   "source": [
    "sch.notnull().sum()"
   ]
  },
  {
   "cell_type": "code",
   "execution_count": 20,
   "metadata": {},
   "outputs": [
    {
     "output_type": "execute_result",
     "data": {
      "text/plain": "Student ID       39170\nstudent_name     39170\ngender           39170\ngrade            39170\nschool_name      39170\nreading_score    39170\nmath_score       39170\ndtype: int64"
     },
     "metadata": {},
     "execution_count": 20
    }
   ],
   "source": [
    "stu.notnull().sum()"
   ]
  },
  {
   "cell_type": "code",
   "execution_count": null,
   "metadata": {},
   "outputs": [],
   "source": []
  },
  {
   "cell_type": "code",
   "execution_count": null,
   "metadata": {},
   "outputs": [],
   "source": []
  },
  {
   "cell_type": "code",
   "execution_count": null,
   "metadata": {},
   "outputs": [],
   "source": []
  }
 ]
}